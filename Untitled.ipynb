{
 "cells": [
  {
   "cell_type": "code",
   "execution_count": 1,
   "id": "aca7c4e8",
   "metadata": {},
   "outputs": [],
   "source": [
    "## Stock Prediction App"
   ]
  },
  {
   "cell_type": "code",
   "execution_count": 2,
   "id": "075f0152",
   "metadata": {},
   "outputs": [],
   "source": [
    "import pandas_datareader as pdr"
   ]
  },
  {
   "cell_type": "code",
   "execution_count": 3,
   "id": "1b719383",
   "metadata": {},
   "outputs": [
    {
     "name": "stderr",
     "output_type": "stream",
     "text": [
      "C:\\Users\\jadhavn\\Anaconda3\\lib\\site-packages\\pandas_datareader\\tiingo.py:234: FutureWarning: In a future version of pandas all arguments of concat except for the argument 'objs' will be keyword-only\n",
      "  return pd.concat(dfs, self._concat_axis)\n"
     ]
    }
   ],
   "source": [
    "df = pdr.get_data_tiingo('AAPL', api_key='f667b6db1b8eb672f41152b2abd17abc35f4bff4')"
   ]
  },
  {
   "cell_type": "code",
   "execution_count": 4,
   "id": "c22c6b09",
   "metadata": {},
   "outputs": [],
   "source": [
    "df.to_csv('AAPL.csv')"
   ]
  },
  {
   "cell_type": "code",
   "execution_count": 5,
   "id": "2569e362",
   "metadata": {},
   "outputs": [],
   "source": [
    "import pandas as pd"
   ]
  },
  {
   "cell_type": "code",
   "execution_count": 6,
   "id": "6473a497",
   "metadata": {},
   "outputs": [],
   "source": [
    "df = pd.read_csv('AAPL.csv')"
   ]
  },
  {
   "cell_type": "code",
   "execution_count": 7,
   "id": "608b0df0",
   "metadata": {},
   "outputs": [
    {
     "data": {
      "text/html": [
       "<div>\n",
       "<style scoped>\n",
       "    .dataframe tbody tr th:only-of-type {\n",
       "        vertical-align: middle;\n",
       "    }\n",
       "\n",
       "    .dataframe tbody tr th {\n",
       "        vertical-align: top;\n",
       "    }\n",
       "\n",
       "    .dataframe thead th {\n",
       "        text-align: right;\n",
       "    }\n",
       "</style>\n",
       "<table border=\"1\" class=\"dataframe\">\n",
       "  <thead>\n",
       "    <tr style=\"text-align: right;\">\n",
       "      <th></th>\n",
       "      <th>symbol</th>\n",
       "      <th>date</th>\n",
       "      <th>close</th>\n",
       "      <th>high</th>\n",
       "      <th>low</th>\n",
       "      <th>open</th>\n",
       "      <th>volume</th>\n",
       "      <th>adjClose</th>\n",
       "      <th>adjHigh</th>\n",
       "      <th>adjLow</th>\n",
       "      <th>adjOpen</th>\n",
       "      <th>adjVolume</th>\n",
       "      <th>divCash</th>\n",
       "      <th>splitFactor</th>\n",
       "    </tr>\n",
       "  </thead>\n",
       "  <tbody>\n",
       "    <tr>\n",
       "      <th>0</th>\n",
       "      <td>AAPL</td>\n",
       "      <td>2018-06-11 00:00:00+00:00</td>\n",
       "      <td>191.23</td>\n",
       "      <td>191.97</td>\n",
       "      <td>190.21</td>\n",
       "      <td>191.35</td>\n",
       "      <td>18308460</td>\n",
       "      <td>45.684597</td>\n",
       "      <td>45.861382</td>\n",
       "      <td>45.440920</td>\n",
       "      <td>45.713265</td>\n",
       "      <td>73233840</td>\n",
       "      <td>0.0</td>\n",
       "      <td>1.0</td>\n",
       "    </tr>\n",
       "    <tr>\n",
       "      <th>1</th>\n",
       "      <td>AAPL</td>\n",
       "      <td>2018-06-12 00:00:00+00:00</td>\n",
       "      <td>192.28</td>\n",
       "      <td>192.61</td>\n",
       "      <td>191.15</td>\n",
       "      <td>191.39</td>\n",
       "      <td>16911141</td>\n",
       "      <td>45.935441</td>\n",
       "      <td>46.014277</td>\n",
       "      <td>45.665485</td>\n",
       "      <td>45.722821</td>\n",
       "      <td>67644564</td>\n",
       "      <td>0.0</td>\n",
       "      <td>1.0</td>\n",
       "    </tr>\n",
       "    <tr>\n",
       "      <th>2</th>\n",
       "      <td>AAPL</td>\n",
       "      <td>2018-06-13 00:00:00+00:00</td>\n",
       "      <td>190.70</td>\n",
       "      <td>192.88</td>\n",
       "      <td>190.44</td>\n",
       "      <td>192.42</td>\n",
       "      <td>21638393</td>\n",
       "      <td>45.557981</td>\n",
       "      <td>46.078780</td>\n",
       "      <td>45.495867</td>\n",
       "      <td>45.968886</td>\n",
       "      <td>86553572</td>\n",
       "      <td>0.0</td>\n",
       "      <td>1.0</td>\n",
       "    </tr>\n",
       "    <tr>\n",
       "      <th>3</th>\n",
       "      <td>AAPL</td>\n",
       "      <td>2018-06-14 00:00:00+00:00</td>\n",
       "      <td>190.80</td>\n",
       "      <td>191.57</td>\n",
       "      <td>190.22</td>\n",
       "      <td>191.55</td>\n",
       "      <td>21610074</td>\n",
       "      <td>45.581871</td>\n",
       "      <td>45.765823</td>\n",
       "      <td>45.443309</td>\n",
       "      <td>45.761045</td>\n",
       "      <td>86440296</td>\n",
       "      <td>0.0</td>\n",
       "      <td>1.0</td>\n",
       "    </tr>\n",
       "    <tr>\n",
       "      <th>4</th>\n",
       "      <td>AAPL</td>\n",
       "      <td>2018-06-15 00:00:00+00:00</td>\n",
       "      <td>188.84</td>\n",
       "      <td>190.16</td>\n",
       "      <td>188.26</td>\n",
       "      <td>190.03</td>\n",
       "      <td>61719160</td>\n",
       "      <td>45.113629</td>\n",
       "      <td>45.428975</td>\n",
       "      <td>44.975068</td>\n",
       "      <td>45.397919</td>\n",
       "      <td>246876640</td>\n",
       "      <td>0.0</td>\n",
       "      <td>1.0</td>\n",
       "    </tr>\n",
       "  </tbody>\n",
       "</table>\n",
       "</div>"
      ],
      "text/plain": [
       "  symbol                       date   close    high     low    open    volume  \\\n",
       "0   AAPL  2018-06-11 00:00:00+00:00  191.23  191.97  190.21  191.35  18308460   \n",
       "1   AAPL  2018-06-12 00:00:00+00:00  192.28  192.61  191.15  191.39  16911141   \n",
       "2   AAPL  2018-06-13 00:00:00+00:00  190.70  192.88  190.44  192.42  21638393   \n",
       "3   AAPL  2018-06-14 00:00:00+00:00  190.80  191.57  190.22  191.55  21610074   \n",
       "4   AAPL  2018-06-15 00:00:00+00:00  188.84  190.16  188.26  190.03  61719160   \n",
       "\n",
       "    adjClose    adjHigh     adjLow    adjOpen  adjVolume  divCash  splitFactor  \n",
       "0  45.684597  45.861382  45.440920  45.713265   73233840      0.0          1.0  \n",
       "1  45.935441  46.014277  45.665485  45.722821   67644564      0.0          1.0  \n",
       "2  45.557981  46.078780  45.495867  45.968886   86553572      0.0          1.0  \n",
       "3  45.581871  45.765823  45.443309  45.761045   86440296      0.0          1.0  \n",
       "4  45.113629  45.428975  44.975068  45.397919  246876640      0.0          1.0  "
      ]
     },
     "execution_count": 7,
     "metadata": {},
     "output_type": "execute_result"
    }
   ],
   "source": [
    "df.head()"
   ]
  },
  {
   "cell_type": "code",
   "execution_count": 8,
   "id": "ffd60236",
   "metadata": {},
   "outputs": [],
   "source": [
    "df1 = df.reset_index()['close']"
   ]
  },
  {
   "cell_type": "code",
   "execution_count": 9,
   "id": "349c4ba2",
   "metadata": {},
   "outputs": [
    {
     "data": {
      "text/plain": [
       "(1256,)"
      ]
     },
     "execution_count": 9,
     "metadata": {},
     "output_type": "execute_result"
    }
   ],
   "source": [
    "df1.shape"
   ]
  },
  {
   "cell_type": "code",
   "execution_count": 10,
   "id": "5fd6998a",
   "metadata": {},
   "outputs": [
    {
     "data": {
      "text/plain": [
       "[<matplotlib.lines.Line2D at 0x14e4d1d4ec8>]"
      ]
     },
     "execution_count": 10,
     "metadata": {},
     "output_type": "execute_result"
    },
    {
     "data": {
      "image/png": "[encoded data removed]",
      "text/plain": [
       "<Figure size 432x288 with 1 Axes>"
      ]
     },
     "metadata": {
      "needs_background": "light"
     },
     "output_type": "display_data"
    }
   ],
   "source": [
    "import matplotlib.pyplot as plt\n",
    "plt.plot(df1)"
   ]
  },
  {
   "cell_type": "code",
   "execution_count": 11,
   "id": "91eb667d",
   "metadata": {},
   "outputs": [],
   "source": [
    "import numpy as np"
   ]
  },
  {
   "cell_type": "code",
   "execution_count": 12,
   "id": "24e0ba7a",
   "metadata": {},
   "outputs": [],
   "source": [
    "from sklearn.preprocessing import MinMaxScaler\n",
    "scaler = MinMaxScaler(feature_range=(0,1))\n",
    "df1 = scaler.fit_transform(np.array(df1).reshape(-1,1))"
   ]
  },
  {
   "cell_type": "code",
   "execution_count": 13,
   "id": "09baf01a",
   "metadata": {},
   "outputs": [
    {
     "data": {
      "text/plain": [
       "(1256, 1)"
      ]
     },
     "execution_count": 13,
     "metadata": {},
     "output_type": "execute_result"
    }
   ],
   "source": [
    "df1.shape"
   ]
  },
  {
   "cell_type": "code",
   "execution_count": 14,
   "id": "6b05163c",
   "metadata": {},
   "outputs": [
    {
     "data": {
      "text/plain": [
       "array([[0.21137132],\n",
       "       [0.21400125],\n",
       "       [0.21004383],\n",
       "       ...,\n",
       "       [0.18562304],\n",
       "       [0.18219161],\n",
       "       [0.18126487]])"
      ]
     },
     "execution_count": 14,
     "metadata": {},
     "output_type": "execute_result"
    }
   ],
   "source": [
    "df1"
   ]
  },
  {
   "cell_type": "code",
   "execution_count": 15,
   "id": "eb209c0f",
   "metadata": {},
   "outputs": [],
   "source": [
    "training_size = int(len(df1)*0.65)\n",
    "test_size = len(df1)-training_size\n",
    "train_data, test_data = df1[0:training_size,:], df1[training_size:len(df1),:1]"
   ]
  },
  {
   "cell_type": "code",
   "execution_count": 16,
   "id": "b33b5604",
   "metadata": {},
   "outputs": [],
   "source": [
    "\n",
    "def create_dataset(dataset, time_step=1):\n",
    "    dataX, dataY = [], []\n",
    "    for i in range(len(dataset)-time_step-1):\n",
    "        a = dataset[i:(i+time_step), 0]\n",
    "        dataX.append(a)\n",
    "        dataY.append(dataset[i + time_step, 0])\n",
    "    return np.array(dataX), np.array(dataY)"
   ]
  },
  {
   "cell_type": "code",
   "execution_count": 17,
   "id": "63bfb075",
   "metadata": {},
   "outputs": [],
   "source": [
    "time_step = 100\n",
    "X_train, y_train = create_dataset(train_data, time_step)\n",
    "X_test, ytest = create_dataset(test_data, time_step)"
   ]
  },
  {
   "cell_type": "code",
   "execution_count": 18,
   "id": "815d30b8",
   "metadata": {},
   "outputs": [
    {
     "name": "stdout",
     "output_type": "stream",
     "text": [
      "(715, 100)\n",
      "(715,)\n"
     ]
    },
    {
     "data": {
      "text/plain": [
       "(None, None)"
      ]
     },
     "execution_count": 18,
     "metadata": {},
     "output_type": "execute_result"
    }
   ],
   "source": [
    "print(X_train.shape), print(y_train.shape)"
   ]
  },
  {
   "cell_type": "code",
   "execution_count": 19,
   "id": "74342bd6",
   "metadata": {},
   "outputs": [
    {
     "name": "stdout",
     "output_type": "stream",
     "text": [
      "(339, 100)\n",
      "(339,)\n"
     ]
    },
    {
     "data": {
      "text/plain": [
       "(None, None)"
      ]
     },
     "execution_count": 19,
     "metadata": {},
     "output_type": "execute_result"
    }
   ],
   "source": [
    "print(X_test.shape), print(ytest.shape)"
   ]
  },
  {
   "cell_type": "code",
   "execution_count": 20,
   "id": "9b1ede3d",
   "metadata": {},
   "outputs": [],
   "source": [
    "X_train = X_train.reshape(X_train.shape[0], X_train.shape[1], 1)\n",
    "X_test = X_test.reshape(X_test.shape[0], X_test.shape[1], 1)"
   ]
  },
  {
   "cell_type": "code",
   "execution_count": 23,
   "id": "5aa4fadd",
   "metadata": {},
   "outputs": [],
   "source": [
    "from tensorflow.keras.models import Sequential\n",
    "from tensorflow.keras.layers import Dense\n",
    "from tensorflow.keras.layers import LSTM"
   ]
  },
  {
   "cell_type": "code",
   "execution_count": 24,
   "id": "4c9f2083",
   "metadata": {},
   "outputs": [],
   "source": [
    "model = Sequential()\n",
    "model.add(LSTM(50, return_sequences=True, input_shape=(100,1)))\n",
    "model.add(LSTM(50, return_sequences=True))\n",
    "model.add(LSTM(50))\n",
    "model.add(Dense(1))\n",
    "model.compile(loss='mean_squared_error', optimizer='adam')"
   ]
  },
  {
   "cell_type": "code",
   "execution_count": 25,
   "id": "61cb88d4",
   "metadata": {},
   "outputs": [
    {
     "name": "stdout",
     "output_type": "stream",
     "text": [
      "Model: \"sequential\"\n",
      "_________________________________________________________________\n",
      " Layer (type)                Output Shape              Param #   \n",
      "=================================================================\n",
      " lstm (LSTM)                 (None, 100, 50)           10400     \n",
      "                                                                 \n",
      " lstm_1 (LSTM)               (None, 100, 50)           20200     \n",
      "                                                                 \n",
      " lstm_2 (LSTM)               (None, 50)                20200     \n",
      "                                                                 \n",
      " dense (Dense)               (None, 1)                 51        \n",
      "                                                                 \n",
      "=================================================================\n",
      "Total params: 50,851\n",
      "Trainable params: 50,851\n",
      "Non-trainable params: 0\n",
      "_________________________________________________________________\n"
     ]
    }
   ],
   "source": [
    "model.summary()"
   ]
  },
  {
   "cell_type": "code",
   "execution_count": 26,
   "id": "2f4a36b5",
   "metadata": {},
   "outputs": [
    {
     "name": "stdout",
     "output_type": "stream",
     "text": [
      "Epoch 1/50\n",
      "12/12 [==============================] - 8s 248ms/step - loss: 0.0414 - val_loss: 0.0012\n",
      "Epoch 2/50\n",
      "12/12 [==============================] - 2s 147ms/step - loss: 0.0165 - val_loss: 0.0040\n",
      "Epoch 3/50\n",
      "12/12 [==============================] - 2s 152ms/step - loss: 0.0118 - val_loss: 4.0331e-04\n",
      "Epoch 4/50\n",
      "12/12 [==============================] - 2s 148ms/step - loss: 0.0114 - val_loss: 4.6170e-04\n",
      "Epoch 5/50\n",
      "12/12 [==============================] - 2s 138ms/step - loss: 0.0099 - val_loss: 4.9745e-04\n",
      "Epoch 6/50\n",
      "12/12 [==============================] - 2s 139ms/step - loss: 0.0094 - val_loss: 0.0011\n",
      "Epoch 7/50\n",
      "12/12 [==============================] - 2s 140ms/step - loss: 0.0074 - val_loss: 3.5060e-04\n",
      "Epoch 8/50\n",
      "12/12 [==============================] - 2s 138ms/step - loss: 0.0070 - val_loss: 4.1541e-04\n",
      "Epoch 9/50\n",
      "12/12 [==============================] - 2s 136ms/step - loss: 0.0060 - val_loss: 3.3224e-04\n",
      "Epoch 10/50\n",
      "12/12 [==============================] - 2s 140ms/step - loss: 0.0051 - val_loss: 6.7929e-04\n",
      "Epoch 11/50\n",
      "12/12 [==============================] - 2s 137ms/step - loss: 0.0045 - val_loss: 3.3743e-04\n",
      "Epoch 12/50\n",
      "12/12 [==============================] - 2s 139ms/step - loss: 0.0040 - val_loss: 2.9090e-04\n",
      "Epoch 13/50\n",
      "12/12 [==============================] - 2s 149ms/step - loss: 0.0042 - val_loss: 3.2529e-04\n",
      "Epoch 14/50\n",
      "12/12 [==============================] - 2s 137ms/step - loss: 0.0038 - val_loss: 3.0902e-04\n",
      "Epoch 15/50\n",
      "12/12 [==============================] - 2s 139ms/step - loss: 0.0034 - val_loss: 3.2974e-04\n",
      "Epoch 16/50\n",
      "12/12 [==============================] - 2s 137ms/step - loss: 0.0044 - val_loss: 4.3306e-04\n",
      "Epoch 17/50\n",
      "12/12 [==============================] - 2s 138ms/step - loss: 0.0035 - val_loss: 3.6725e-04\n",
      "Epoch 18/50\n",
      "12/12 [==============================] - 2s 138ms/step - loss: 0.0033 - val_loss: 2.9756e-04\n",
      "Epoch 19/50\n",
      "12/12 [==============================] - 2s 138ms/step - loss: 0.0029 - val_loss: 3.9104e-04\n",
      "Epoch 20/50\n",
      "12/12 [==============================] - 2s 136ms/step - loss: 0.0036 - val_loss: 5.3507e-04\n",
      "Epoch 21/50\n",
      "12/12 [==============================] - 2s 142ms/step - loss: 0.0030 - val_loss: 2.6498e-04\n",
      "Epoch 22/50\n",
      "12/12 [==============================] - 2s 141ms/step - loss: 0.0024 - val_loss: 4.7351e-04\n",
      "Epoch 23/50\n",
      "12/12 [==============================] - 2s 141ms/step - loss: 0.0022 - val_loss: 2.7099e-04\n",
      "Epoch 24/50\n",
      "12/12 [==============================] - 2s 138ms/step - loss: 0.0024 - val_loss: 2.5794e-04\n",
      "Epoch 25/50\n",
      "12/12 [==============================] - 2s 139ms/step - loss: 0.0019 - val_loss: 4.0309e-04\n",
      "Epoch 26/50\n",
      "12/12 [==============================] - 2s 138ms/step - loss: 0.0025 - val_loss: 2.8161e-04\n",
      "Epoch 27/50\n",
      "12/12 [==============================] - 2s 139ms/step - loss: 0.0026 - val_loss: 3.9730e-04\n",
      "Epoch 28/50\n",
      "12/12 [==============================] - 2s 140ms/step - loss: 0.0025 - val_loss: 3.9045e-04\n",
      "Epoch 29/50\n",
      "12/12 [==============================] - 2s 136ms/step - loss: 0.0020 - val_loss: 2.7554e-04\n",
      "Epoch 30/50\n",
      "12/12 [==============================] - 2s 138ms/step - loss: 0.0020 - val_loss: 3.0854e-04\n",
      "Epoch 31/50\n",
      "12/12 [==============================] - 2s 138ms/step - loss: 0.0019 - val_loss: 2.5305e-04\n",
      "Epoch 32/50\n",
      "12/12 [==============================] - 2s 149ms/step - loss: 0.0020 - val_loss: 2.7172e-04\n",
      "Epoch 33/50\n",
      "12/12 [==============================] - 2s 135ms/step - loss: 0.0021 - val_loss: 2.4948e-04\n",
      "Epoch 34/50\n",
      "12/12 [==============================] - 2s 135ms/step - loss: 0.0019 - val_loss: 2.7144e-04\n",
      "Epoch 35/50\n",
      "12/12 [==============================] - 2s 138ms/step - loss: 0.0022 - val_loss: 4.0213e-04\n",
      "Epoch 36/50\n",
      "12/12 [==============================] - 2s 140ms/step - loss: 0.0020 - val_loss: 2.9235e-04\n",
      "Epoch 37/50\n",
      "12/12 [==============================] - 2s 135ms/step - loss: 0.0049 - val_loss: 3.2122e-04\n",
      "Epoch 38/50\n",
      "12/12 [==============================] - 2s 135ms/step - loss: 0.0037 - val_loss: 5.3293e-04\n",
      "Epoch 39/50\n",
      "12/12 [==============================] - 2s 135ms/step - loss: 0.0019 - val_loss: 2.7130e-04\n",
      "Epoch 40/50\n",
      "12/12 [==============================] - 2s 149ms/step - loss: 0.0021 - val_loss: 2.5942e-04\n",
      "Epoch 41/50\n",
      "12/12 [==============================] - 2s 134ms/step - loss: 0.0019 - val_loss: 2.5325e-04\n",
      "Epoch 42/50\n",
      "12/12 [==============================] - 2s 144ms/step - loss: 0.0020 - val_loss: 2.5210e-04\n",
      "Epoch 43/50\n",
      "12/12 [==============================] - 2s 136ms/step - loss: 0.0031 - val_loss: 3.5411e-04\n",
      "Epoch 44/50\n",
      "12/12 [==============================] - 2s 136ms/step - loss: 0.0017 - val_loss: 3.4708e-04\n",
      "Epoch 45/50\n",
      "12/12 [==============================] - 2s 134ms/step - loss: 0.0022 - val_loss: 2.5085e-04\n",
      "Epoch 46/50\n",
      "12/12 [==============================] - 2s 135ms/step - loss: 0.0023 - val_loss: 2.6845e-04\n",
      "Epoch 47/50\n",
      "12/12 [==============================] - 2s 137ms/step - loss: 0.0018 - val_loss: 2.7047e-04\n",
      "Epoch 48/50\n",
      "12/12 [==============================] - 2s 137ms/step - loss: 0.0025 - val_loss: 3.2999e-04\n",
      "Epoch 49/50\n",
      "12/12 [==============================] - 2s 135ms/step - loss: 0.0037 - val_loss: 3.8788e-04\n",
      "Epoch 50/50\n",
      "12/12 [==============================] - 2s 137ms/step - loss: 0.0028 - val_loss: 2.4014e-04\n"
     ]
    },
    {
     "data": {
      "text/plain": [
       "<keras.callbacks.History at 0x14e5c171588>"
      ]
     },
     "execution_count": 26,
     "metadata": {},
     "output_type": "execute_result"
    }
   ],
   "source": [
    "model.fit(X_train, y_train, validation_data=(X_test,ytest), epochs=50, batch_size=64, verbose=1)"
   ]
  },
  {
   "cell_type": "code",
   "execution_count": 27,
   "id": "058426a9",
   "metadata": {},
   "outputs": [],
   "source": [
    "import tensorflow as tf"
   ]
  },
  {
   "cell_type": "code",
   "execution_count": 28,
   "id": "db1806aa",
   "metadata": {},
   "outputs": [
    {
     "data": {
      "text/plain": [
       "'2.11.0'"
      ]
     },
     "execution_count": 28,
     "metadata": {},
     "output_type": "execute_result"
    }
   ],
   "source": [
    "tf.__version__"
   ]
  },
  {
   "cell_type": "code",
   "execution_count": 29,
   "id": "2edbe9a5",
   "metadata": {},
   "outputs": [
    {
     "name": "stdout",
     "output_type": "stream",
     "text": [
      "23/23 [==============================] - 2s 28ms/step\n",
      "11/11 [==============================] - 1s 48ms/step\n"
     ]
    }
   ],
   "source": [
    "train_predict = model.predict(X_train)\n",
    "test_predict = model.predict(X_test)"
   ]
  },
  {
   "cell_type": "code",
   "execution_count": 30,
   "id": "ea60b6b2",
   "metadata": {},
   "outputs": [],
   "source": [
    "train_predict = scaler.inverse_transform(train_predict)\n",
    "test_predict = scaler.inverse_transform(test_predict)"
   ]
  },
  {
   "cell_type": "code",
   "execution_count": 31,
   "id": "33a192d5",
   "metadata": {},
   "outputs": [
    {
     "data": {
      "text/plain": [
       "226.0144100829866"
      ]
     },
     "execution_count": 31,
     "metadata": {},
     "output_type": "execute_result"
    }
   ],
   "source": [
    "import math\n",
    "from sklearn.metrics import mean_squared_error\n",
    "math.sqrt(mean_squared_error(y_train, train_predict))"
   ]
  },
  {
   "cell_type": "code",
   "execution_count": 32,
   "id": "83f5a947",
   "metadata": {},
   "outputs": [
    {
     "data": {
      "text/plain": [
       "154.40496702858346"
      ]
     },
     "execution_count": 32,
     "metadata": {},
     "output_type": "execute_result"
    }
   ],
   "source": [
    "math.sqrt(mean_squared_error(ytest, test_predict))"
   ]
  },
  {
   "cell_type": "code",
   "execution_count": 34,
   "id": "319d5607",
   "metadata": {},
   "outputs": [
    {
     "data": {
      "image/png": "[encoded data removed]",
      "text/plain": [
       "<Figure size 432x288 with 1 Axes>"
      ]
     },
     "metadata": {
      "needs_background": "light"
     },
     "output_type": "display_data"
    }
   ],
   "source": [
    "look_back=100\n",
    "trainPredictPlot = np.empty_like(df1)\n",
    "trainPredictPlot[:, :] = np.nan\n",
    "trainPredictPlot[look_back:len(train_predict)+look_back, :] = train_predict\n",
    "# shift test predictions for plotting\n",
    "testPredictPlot = np.empty_like(df1)\n",
    "testPredictPlot[:, :] = np.nan\n",
    "testPredictPlot[len(train_predict)+(look_back*2)+1:len(df1)-1, :] = test_predict\n",
    "# plot baseline and predictions\n",
    "plt.plot(scaler.inverse_transform(df1))\n",
    "plt.plot(trainPredictPlot)\n",
    "plt.plot(testPredictPlot)\n",
    "plt.show()"
   ]
  },
  {
   "cell_type": "code",
   "execution_count": 35,
   "id": "d64dcea0",
   "metadata": {},
   "outputs": [
    {
     "data": {
      "text/plain": [
       "440"
      ]
     },
     "execution_count": 35,
     "metadata": {},
     "output_type": "execute_result"
    }
   ],
   "source": [
    "len(test_data)"
   ]
  },
  {
   "cell_type": "code",
   "execution_count": 36,
   "id": "b675be3c",
   "metadata": {},
   "outputs": [
    {
     "data": {
      "text/plain": [
       "(1, 100)"
      ]
     },
     "execution_count": 36,
     "metadata": {},
     "output_type": "execute_result"
    }
   ],
   "source": [
    "x_input=test_data[340:].reshape(1,-1)\n",
    "x_input.shape"
   ]
  },
  {
   "cell_type": "code",
   "execution_count": 37,
   "id": "713195f8",
   "metadata": {},
   "outputs": [],
   "source": [
    "temp_input=list(x_input)\n",
    "temp_input=temp_input[0].tolist()"
   ]
  },
  {
   "cell_type": "code",
   "execution_count": 38,
   "id": "93f780e5",
   "metadata": {},
   "outputs": [
    {
     "data": {
      "text/plain": [
       "[0.0665497808390732,\n",
       " 0.0699311208515967,\n",
       " 0.0728866624921728,\n",
       " 0.07105823418910456,\n",
       " 0.07120851596743893,\n",
       " 0.07772072636192856,\n",
       " 0.08583594239198494,\n",
       " 0.08939261114589853,\n",
       " 0.08771446462116467,\n",
       " 0.09297432686286783,\n",
       " 0.09790857858484658,\n",
       " 0.09056981840951783,\n",
       " 0.0938008766437069,\n",
       " 0.09665623043206006,\n",
       " 0.11015654351909826,\n",
       " 0.11937382592360674,\n",
       " 0.1124358171571696,\n",
       " 0.11974953036944269,\n",
       " 0.11291170945522849,\n",
       " 0.11028177833437691,\n",
       " 0.1106324358171571,\n",
       " 0.11774577332498432,\n",
       " 0.11611772072636184,\n",
       " 0.12145272385723233,\n",
       " 0.11739511584220413,\n",
       " 0.11448966812773947,\n",
       " 0.10429555416405756,\n",
       " 0.10537257357545393,\n",
       " 0.10659987476518468,\n",
       " 0.09986224170319347,\n",
       " 0.10289292423293667,\n",
       " 0.10161552911709448,\n",
       " 0.09635566687539132,\n",
       " 0.09785848465873509,\n",
       " 0.11068252974326859,\n",
       " 0.11769567939887288,\n",
       " 0.11211020663744514,\n",
       " 0.11529117094552283,\n",
       " 0.1095804633688165,\n",
       " 0.10434564809016905,\n",
       " 0.10927989981214775,\n",
       " 0.11458985597996241,\n",
       " 0.11559173450219157,\n",
       " 0.12275516593613017,\n",
       " 0.1206261740763932,\n",
       " 0.12663744520976827,\n",
       " 0.13134627426424544,\n",
       " 0.12771446462116465,\n",
       " 0.13046963055729488,\n",
       " 0.13377582968065116,\n",
       " 0.12884157795867246,\n",
       " 0.12726361928616153,\n",
       " 0.13507827175954912,\n",
       " 0.13906073888541015,\n",
       " 0.1454226675015654,\n",
       " 0.14860363180964303,\n",
       " 0.14725109580463364,\n",
       " 0.14256731371321218,\n",
       " 0.14482154038822787,\n",
       " 0.13823418910457103,\n",
       " 0.13515341264871633,\n",
       " 0.1334001252348152,\n",
       " 0.14707576706324355,\n",
       " 0.14619912335629304,\n",
       " 0.14624921728240442,\n",
       " 0.14935504070131495,\n",
       " 0.15226048841577955,\n",
       " 0.14980588603631806,\n",
       " 0.14572323105823415,\n",
       " 0.14649968691296178,\n",
       " 0.14259236067626796,\n",
       " 0.14256731371321218,\n",
       " 0.15421415153412643,\n",
       " 0.15739511584220411,\n",
       " 0.15716969317470253,\n",
       " 0.1545397620538509,\n",
       " 0.15180964308077638,\n",
       " 0.1476518472135253,\n",
       " 0.16713838447088286,\n",
       " 0.16696305572949277,\n",
       " 0.16262993112085156,\n",
       " 0.16710081402629928,\n",
       " 0.16758922980588598,\n",
       " 0.16463368816530988,\n",
       " 0.1633813400125234,\n",
       " 0.1633813400125234,\n",
       " 0.16493425172197868,\n",
       " 0.17084533500313087,\n",
       " 0.17112085159674384,\n",
       " 0.1687163431433938,\n",
       " 0.16210394489668123,\n",
       " 0.16280525986224165,\n",
       " 0.1656856606136506,\n",
       " 0.17179711959924854,\n",
       " 0.17648090169067,\n",
       " 0.17635566687539134,\n",
       " 0.1834690043832185,\n",
       " 0.1856230432060112,\n",
       " 0.18219160926737632,\n",
       " 0.18126487163431432]"
      ]
     },
     "execution_count": 38,
     "metadata": {},
     "output_type": "execute_result"
    }
   ],
   "source": [
    "temp_input"
   ]
  },
  {
   "cell_type": "code",
   "execution_count": 39,
   "id": "05fa37cb",
   "metadata": {},
   "outputs": [
    {
     "name": "stdout",
     "output_type": "stream",
     "text": [
      "[0.17422183]\n",
      "101\n",
      "1 day input [0.06993112 0.07288666 0.07105823 0.07120852 0.07772073 0.08583594\n",
      " 0.08939261 0.08771446 0.09297433 0.09790858 0.09056982 0.09380088\n",
      " 0.09665623 0.11015654 0.11937383 0.11243582 0.11974953 0.11291171\n",
      " 0.11028178 0.11063244 0.11774577 0.11611772 0.12145272 0.11739512\n",
      " 0.11448967 0.10429555 0.10537257 0.10659987 0.09986224 0.10289292\n",
      " 0.10161553 0.09635567 0.09785848 0.11068253 0.11769568 0.11211021\n",
      " 0.11529117 0.10958046 0.10434565 0.1092799  0.11458986 0.11559173\n",
      " 0.12275517 0.12062617 0.12663745 0.13134627 0.12771446 0.13046963\n",
      " 0.13377583 0.12884158 0.12726362 0.13507827 0.13906074 0.14542267\n",
      " 0.14860363 0.1472511  0.14256731 0.14482154 0.13823419 0.13515341\n",
      " 0.13340013 0.14707577 0.14619912 0.14624922 0.14935504 0.15226049\n",
      " 0.14980589 0.14572323 0.14649969 0.14259236 0.14256731 0.15421415\n",
      " 0.15739512 0.15716969 0.15453976 0.15180964 0.14765185 0.16713838\n",
      " 0.16696306 0.16262993 0.16710081 0.16758923 0.16463369 0.16338134\n",
      " 0.16338134 0.16493425 0.17084534 0.17112085 0.16871634 0.16210394\n",
      " 0.16280526 0.16568566 0.17179712 0.1764809  0.17635567 0.183469\n",
      " 0.18562304 0.18219161 0.18126487 0.17422183]\n",
      "1 day output [[0.17601432]]\n",
      "2 day input [0.07288666 0.07105823 0.07120852 0.07772073 0.08583594 0.08939261\n",
      " 0.08771446 0.09297433 0.09790858 0.09056982 0.09380088 0.09665623\n",
      " 0.11015654 0.11937383 0.11243582 0.11974953 0.11291171 0.11028178\n",
      " 0.11063244 0.11774577 0.11611772 0.12145272 0.11739512 0.11448967\n",
      " 0.10429555 0.10537257 0.10659987 0.09986224 0.10289292 0.10161553\n",
      " 0.09635567 0.09785848 0.11068253 0.11769568 0.11211021 0.11529117\n",
      " 0.10958046 0.10434565 0.1092799  0.11458986 0.11559173 0.12275517\n",
      " 0.12062617 0.12663745 0.13134627 0.12771446 0.13046963 0.13377583\n",
      " 0.12884158 0.12726362 0.13507827 0.13906074 0.14542267 0.14860363\n",
      " 0.1472511  0.14256731 0.14482154 0.13823419 0.13515341 0.13340013\n",
      " 0.14707577 0.14619912 0.14624922 0.14935504 0.15226049 0.14980589\n",
      " 0.14572323 0.14649969 0.14259236 0.14256731 0.15421415 0.15739512\n",
      " 0.15716969 0.15453976 0.15180964 0.14765185 0.16713838 0.16696306\n",
      " 0.16262993 0.16710081 0.16758923 0.16463369 0.16338134 0.16338134\n",
      " 0.16493425 0.17084534 0.17112085 0.16871634 0.16210394 0.16280526\n",
      " 0.16568566 0.17179712 0.1764809  0.17635567 0.183469   0.18562304\n",
      " 0.18219161 0.18126487 0.17422183 0.17601432]\n",
      "2 day output [[0.17738499]]\n",
      "3 day input [0.07105823 0.07120852 0.07772073 0.08583594 0.08939261 0.08771446\n",
      " 0.09297433 0.09790858 0.09056982 0.09380088 0.09665623 0.11015654\n",
      " 0.11937383 0.11243582 0.11974953 0.11291171 0.11028178 0.11063244\n",
      " 0.11774577 0.11611772 0.12145272 0.11739512 0.11448967 0.10429555\n",
      " 0.10537257 0.10659987 0.09986224 0.10289292 0.10161553 0.09635567\n",
      " 0.09785848 0.11068253 0.11769568 0.11211021 0.11529117 0.10958046\n",
      " 0.10434565 0.1092799  0.11458986 0.11559173 0.12275517 0.12062617\n",
      " 0.12663745 0.13134627 0.12771446 0.13046963 0.13377583 0.12884158\n",
      " 0.12726362 0.13507827 0.13906074 0.14542267 0.14860363 0.1472511\n",
      " 0.14256731 0.14482154 0.13823419 0.13515341 0.13340013 0.14707577\n",
      " 0.14619912 0.14624922 0.14935504 0.15226049 0.14980589 0.14572323\n",
      " 0.14649969 0.14259236 0.14256731 0.15421415 0.15739512 0.15716969\n",
      " 0.15453976 0.15180964 0.14765185 0.16713838 0.16696306 0.16262993\n",
      " 0.16710081 0.16758923 0.16463369 0.16338134 0.16338134 0.16493425\n",
      " 0.17084534 0.17112085 0.16871634 0.16210394 0.16280526 0.16568566\n",
      " 0.17179712 0.1764809  0.17635567 0.183469   0.18562304 0.18219161\n",
      " 0.18126487 0.17422183 0.17601432 0.17738499]\n",
      "3 day output [[0.17834431]]\n",
      "4 day input [0.07120852 0.07772073 0.08583594 0.08939261 0.08771446 0.09297433\n",
      " 0.09790858 0.09056982 0.09380088 0.09665623 0.11015654 0.11937383\n",
      " 0.11243582 0.11974953 0.11291171 0.11028178 0.11063244 0.11774577\n",
      " 0.11611772 0.12145272 0.11739512 0.11448967 0.10429555 0.10537257\n",
      " 0.10659987 0.09986224 0.10289292 0.10161553 0.09635567 0.09785848\n",
      " 0.11068253 0.11769568 0.11211021 0.11529117 0.10958046 0.10434565\n",
      " 0.1092799  0.11458986 0.11559173 0.12275517 0.12062617 0.12663745\n",
      " 0.13134627 0.12771446 0.13046963 0.13377583 0.12884158 0.12726362\n",
      " 0.13507827 0.13906074 0.14542267 0.14860363 0.1472511  0.14256731\n",
      " 0.14482154 0.13823419 0.13515341 0.13340013 0.14707577 0.14619912\n",
      " 0.14624922 0.14935504 0.15226049 0.14980589 0.14572323 0.14649969\n",
      " 0.14259236 0.14256731 0.15421415 0.15739512 0.15716969 0.15453976\n",
      " 0.15180964 0.14765185 0.16713838 0.16696306 0.16262993 0.16710081\n",
      " 0.16758923 0.16463369 0.16338134 0.16338134 0.16493425 0.17084534\n",
      " 0.17112085 0.16871634 0.16210394 0.16280526 0.16568566 0.17179712\n",
      " 0.1764809  0.17635567 0.183469   0.18562304 0.18219161 0.18126487\n",
      " 0.17422183 0.17601432 0.17738499 0.17834431]\n",
      "4 day output [[0.17895861]]\n",
      "5 day input [0.07772073 0.08583594 0.08939261 0.08771446 0.09297433 0.09790858\n",
      " 0.09056982 0.09380088 0.09665623 0.11015654 0.11937383 0.11243582\n",
      " 0.11974953 0.11291171 0.11028178 0.11063244 0.11774577 0.11611772\n",
      " 0.12145272 0.11739512 0.11448967 0.10429555 0.10537257 0.10659987\n",
      " 0.09986224 0.10289292 0.10161553 0.09635567 0.09785848 0.11068253\n",
      " 0.11769568 0.11211021 0.11529117 0.10958046 0.10434565 0.1092799\n",
      " 0.11458986 0.11559173 0.12275517 0.12062617 0.12663745 0.13134627\n",
      " 0.12771446 0.13046963 0.13377583 0.12884158 0.12726362 0.13507827\n",
      " 0.13906074 0.14542267 0.14860363 0.1472511  0.14256731 0.14482154\n",
      " 0.13823419 0.13515341 0.13340013 0.14707577 0.14619912 0.14624922\n",
      " 0.14935504 0.15226049 0.14980589 0.14572323 0.14649969 0.14259236\n",
      " 0.14256731 0.15421415 0.15739512 0.15716969 0.15453976 0.15180964\n",
      " 0.14765185 0.16713838 0.16696306 0.16262993 0.16710081 0.16758923\n",
      " 0.16463369 0.16338134 0.16338134 0.16493425 0.17084534 0.17112085\n",
      " 0.16871634 0.16210394 0.16280526 0.16568566 0.17179712 0.1764809\n",
      " 0.17635567 0.183469   0.18562304 0.18219161 0.18126487 0.17422183\n",
      " 0.17601432 0.17738499 0.17834431 0.17895861]\n",
      "5 day output [[0.17930788]]\n",
      "6 day input [0.08583594 0.08939261 0.08771446 0.09297433 0.09790858 0.09056982\n",
      " 0.09380088 0.09665623 0.11015654 0.11937383 0.11243582 0.11974953\n",
      " 0.11291171 0.11028178 0.11063244 0.11774577 0.11611772 0.12145272\n",
      " 0.11739512 0.11448967 0.10429555 0.10537257 0.10659987 0.09986224\n",
      " 0.10289292 0.10161553 0.09635567 0.09785848 0.11068253 0.11769568\n",
      " 0.11211021 0.11529117 0.10958046 0.10434565 0.1092799  0.11458986\n",
      " 0.11559173 0.12275517 0.12062617 0.12663745 0.13134627 0.12771446\n",
      " 0.13046963 0.13377583 0.12884158 0.12726362 0.13507827 0.13906074\n",
      " 0.14542267 0.14860363 0.1472511  0.14256731 0.14482154 0.13823419\n",
      " 0.13515341 0.13340013 0.14707577 0.14619912 0.14624922 0.14935504\n",
      " 0.15226049 0.14980589 0.14572323 0.14649969 0.14259236 0.14256731\n",
      " 0.15421415 0.15739512 0.15716969 0.15453976 0.15180964 0.14765185\n",
      " 0.16713838 0.16696306 0.16262993 0.16710081 0.16758923 0.16463369\n",
      " 0.16338134 0.16338134 0.16493425 0.17084534 0.17112085 0.16871634\n",
      " 0.16210394 0.16280526 0.16568566 0.17179712 0.1764809  0.17635567\n",
      " 0.183469   0.18562304 0.18219161 0.18126487 0.17422183 0.17601432\n",
      " 0.17738499 0.17834431 0.17895861 0.17930788]\n",
      "6 day output [[0.17946507]]\n",
      "7 day input [0.08939261 0.08771446 0.09297433 0.09790858 0.09056982 0.09380088\n",
      " 0.09665623 0.11015654 0.11937383 0.11243582 0.11974953 0.11291171\n",
      " 0.11028178 0.11063244 0.11774577 0.11611772 0.12145272 0.11739512\n",
      " 0.11448967 0.10429555 0.10537257 0.10659987 0.09986224 0.10289292\n",
      " 0.10161553 0.09635567 0.09785848 0.11068253 0.11769568 0.11211021\n",
      " 0.11529117 0.10958046 0.10434565 0.1092799  0.11458986 0.11559173\n",
      " 0.12275517 0.12062617 0.12663745 0.13134627 0.12771446 0.13046963\n",
      " 0.13377583 0.12884158 0.12726362 0.13507827 0.13906074 0.14542267\n",
      " 0.14860363 0.1472511  0.14256731 0.14482154 0.13823419 0.13515341\n",
      " 0.13340013 0.14707577 0.14619912 0.14624922 0.14935504 0.15226049\n",
      " 0.14980589 0.14572323 0.14649969 0.14259236 0.14256731 0.15421415\n",
      " 0.15739512 0.15716969 0.15453976 0.15180964 0.14765185 0.16713838\n",
      " 0.16696306 0.16262993 0.16710081 0.16758923 0.16463369 0.16338134\n",
      " 0.16338134 0.16493425 0.17084534 0.17112085 0.16871634 0.16210394\n",
      " 0.16280526 0.16568566 0.17179712 0.1764809  0.17635567 0.183469\n",
      " 0.18562304 0.18219161 0.18126487 0.17422183 0.17601432 0.17738499\n",
      " 0.17834431 0.17895861 0.17930788 0.17946507]\n",
      "7 day output [[0.17948894]]\n",
      "8 day input [0.08771446 0.09297433 0.09790858 0.09056982 0.09380088 0.09665623\n",
      " 0.11015654 0.11937383 0.11243582 0.11974953 0.11291171 0.11028178\n",
      " 0.11063244 0.11774577 0.11611772 0.12145272 0.11739512 0.11448967\n",
      " 0.10429555 0.10537257 0.10659987 0.09986224 0.10289292 0.10161553\n",
      " 0.09635567 0.09785848 0.11068253 0.11769568 0.11211021 0.11529117\n",
      " 0.10958046 0.10434565 0.1092799  0.11458986 0.11559173 0.12275517\n",
      " 0.12062617 0.12663745 0.13134627 0.12771446 0.13046963 0.13377583\n",
      " 0.12884158 0.12726362 0.13507827 0.13906074 0.14542267 0.14860363\n",
      " 0.1472511  0.14256731 0.14482154 0.13823419 0.13515341 0.13340013\n",
      " 0.14707577 0.14619912 0.14624922 0.14935504 0.15226049 0.14980589\n",
      " 0.14572323 0.14649969 0.14259236 0.14256731 0.15421415 0.15739512\n",
      " 0.15716969 0.15453976 0.15180964 0.14765185 0.16713838 0.16696306\n",
      " 0.16262993 0.16710081 0.16758923 0.16463369 0.16338134 0.16338134\n",
      " 0.16493425 0.17084534 0.17112085 0.16871634 0.16210394 0.16280526\n",
      " 0.16568566 0.17179712 0.1764809  0.17635567 0.183469   0.18562304\n",
      " 0.18219161 0.18126487 0.17422183 0.17601432 0.17738499 0.17834431\n",
      " 0.17895861 0.17930788 0.17946507 0.17948894]\n",
      "8 day output [[0.17942287]]\n",
      "9 day input [0.09297433 0.09790858 0.09056982 0.09380088 0.09665623 0.11015654\n",
      " 0.11937383 0.11243582 0.11974953 0.11291171 0.11028178 0.11063244\n",
      " 0.11774577 0.11611772 0.12145272 0.11739512 0.11448967 0.10429555\n",
      " 0.10537257 0.10659987 0.09986224 0.10289292 0.10161553 0.09635567\n",
      " 0.09785848 0.11068253 0.11769568 0.11211021 0.11529117 0.10958046\n",
      " 0.10434565 0.1092799  0.11458986 0.11559173 0.12275517 0.12062617\n",
      " 0.12663745 0.13134627 0.12771446 0.13046963 0.13377583 0.12884158\n",
      " 0.12726362 0.13507827 0.13906074 0.14542267 0.14860363 0.1472511\n",
      " 0.14256731 0.14482154 0.13823419 0.13515341 0.13340013 0.14707577\n",
      " 0.14619912 0.14624922 0.14935504 0.15226049 0.14980589 0.14572323\n",
      " 0.14649969 0.14259236 0.14256731 0.15421415 0.15739512 0.15716969\n",
      " 0.15453976 0.15180964 0.14765185 0.16713838 0.16696306 0.16262993\n",
      " 0.16710081 0.16758923 0.16463369 0.16338134 0.16338134 0.16493425\n",
      " 0.17084534 0.17112085 0.16871634 0.16210394 0.16280526 0.16568566\n",
      " 0.17179712 0.1764809  0.17635567 0.183469   0.18562304 0.18219161\n",
      " 0.18126487 0.17422183 0.17601432 0.17738499 0.17834431 0.17895861\n",
      " 0.17930788 0.17946507 0.17948894 0.17942287]\n",
      "9 day output [[0.17929716]]\n",
      "10 day input [0.09790858 0.09056982 0.09380088 0.09665623 0.11015654 0.11937383\n",
      " 0.11243582 0.11974953 0.11291171 0.11028178 0.11063244 0.11774577\n",
      " 0.11611772 0.12145272 0.11739512 0.11448967 0.10429555 0.10537257\n",
      " 0.10659987 0.09986224 0.10289292 0.10161553 0.09635567 0.09785848\n",
      " 0.11068253 0.11769568 0.11211021 0.11529117 0.10958046 0.10434565\n",
      " 0.1092799  0.11458986 0.11559173 0.12275517 0.12062617 0.12663745\n",
      " 0.13134627 0.12771446 0.13046963 0.13377583 0.12884158 0.12726362\n",
      " 0.13507827 0.13906074 0.14542267 0.14860363 0.1472511  0.14256731\n",
      " 0.14482154 0.13823419 0.13515341 0.13340013 0.14707577 0.14619912\n",
      " 0.14624922 0.14935504 0.15226049 0.14980589 0.14572323 0.14649969\n",
      " 0.14259236 0.14256731 0.15421415 0.15739512 0.15716969 0.15453976\n",
      " 0.15180964 0.14765185 0.16713838 0.16696306 0.16262993 0.16710081\n",
      " 0.16758923 0.16463369 0.16338134 0.16338134 0.16493425 0.17084534\n",
      " 0.17112085 0.16871634 0.16210394 0.16280526 0.16568566 0.17179712\n",
      " 0.1764809  0.17635567 0.183469   0.18562304 0.18219161 0.18126487\n",
      " 0.17422183 0.17601432 0.17738499 0.17834431 0.17895861 0.17930788\n",
      " 0.17946507 0.17948894 0.17942287 0.17929716]\n",
      "10 day output [[0.17913221]]\n",
      "11 day input [0.09056982 0.09380088 0.09665623 0.11015654 0.11937383 0.11243582\n",
      " 0.11974953 0.11291171 0.11028178 0.11063244 0.11774577 0.11611772\n",
      " 0.12145272 0.11739512 0.11448967 0.10429555 0.10537257 0.10659987\n",
      " 0.09986224 0.10289292 0.10161553 0.09635567 0.09785848 0.11068253\n",
      " 0.11769568 0.11211021 0.11529117 0.10958046 0.10434565 0.1092799\n",
      " 0.11458986 0.11559173 0.12275517 0.12062617 0.12663745 0.13134627\n",
      " 0.12771446 0.13046963 0.13377583 0.12884158 0.12726362 0.13507827\n",
      " 0.13906074 0.14542267 0.14860363 0.1472511  0.14256731 0.14482154\n",
      " 0.13823419 0.13515341 0.13340013 0.14707577 0.14619912 0.14624922\n",
      " 0.14935504 0.15226049 0.14980589 0.14572323 0.14649969 0.14259236\n",
      " 0.14256731 0.15421415 0.15739512 0.15716969 0.15453976 0.15180964\n",
      " 0.14765185 0.16713838 0.16696306 0.16262993 0.16710081 0.16758923\n",
      " 0.16463369 0.16338134 0.16338134 0.16493425 0.17084534 0.17112085\n",
      " 0.16871634 0.16210394 0.16280526 0.16568566 0.17179712 0.1764809\n",
      " 0.17635567 0.183469   0.18562304 0.18219161 0.18126487 0.17422183\n",
      " 0.17601432 0.17738499 0.17834431 0.17895861 0.17930788 0.17946507\n",
      " 0.17948894 0.17942287 0.17929716 0.17913221]\n"
     ]
    },
    {
     "name": "stdout",
     "output_type": "stream",
     "text": [
      "11 day output [[0.17894115]]\n",
      "12 day input [0.09380088 0.09665623 0.11015654 0.11937383 0.11243582 0.11974953\n",
      " 0.11291171 0.11028178 0.11063244 0.11774577 0.11611772 0.12145272\n",
      " 0.11739512 0.11448967 0.10429555 0.10537257 0.10659987 0.09986224\n",
      " 0.10289292 0.10161553 0.09635567 0.09785848 0.11068253 0.11769568\n",
      " 0.11211021 0.11529117 0.10958046 0.10434565 0.1092799  0.11458986\n",
      " 0.11559173 0.12275517 0.12062617 0.12663745 0.13134627 0.12771446\n",
      " 0.13046963 0.13377583 0.12884158 0.12726362 0.13507827 0.13906074\n",
      " 0.14542267 0.14860363 0.1472511  0.14256731 0.14482154 0.13823419\n",
      " 0.13515341 0.13340013 0.14707577 0.14619912 0.14624922 0.14935504\n",
      " 0.15226049 0.14980589 0.14572323 0.14649969 0.14259236 0.14256731\n",
      " 0.15421415 0.15739512 0.15716969 0.15453976 0.15180964 0.14765185\n",
      " 0.16713838 0.16696306 0.16262993 0.16710081 0.16758923 0.16463369\n",
      " 0.16338134 0.16338134 0.16493425 0.17084534 0.17112085 0.16871634\n",
      " 0.16210394 0.16280526 0.16568566 0.17179712 0.1764809  0.17635567\n",
      " 0.183469   0.18562304 0.18219161 0.18126487 0.17422183 0.17601432\n",
      " 0.17738499 0.17834431 0.17895861 0.17930788 0.17946507 0.17948894\n",
      " 0.17942287 0.17929716 0.17913221 0.17894115]\n",
      "12 day output [[0.1787326]]\n",
      "13 day input [0.09665623 0.11015654 0.11937383 0.11243582 0.11974953 0.11291171\n",
      " 0.11028178 0.11063244 0.11774577 0.11611772 0.12145272 0.11739512\n",
      " 0.11448967 0.10429555 0.10537257 0.10659987 0.09986224 0.10289292\n",
      " 0.10161553 0.09635567 0.09785848 0.11068253 0.11769568 0.11211021\n",
      " 0.11529117 0.10958046 0.10434565 0.1092799  0.11458986 0.11559173\n",
      " 0.12275517 0.12062617 0.12663745 0.13134627 0.12771446 0.13046963\n",
      " 0.13377583 0.12884158 0.12726362 0.13507827 0.13906074 0.14542267\n",
      " 0.14860363 0.1472511  0.14256731 0.14482154 0.13823419 0.13515341\n",
      " 0.13340013 0.14707577 0.14619912 0.14624922 0.14935504 0.15226049\n",
      " 0.14980589 0.14572323 0.14649969 0.14259236 0.14256731 0.15421415\n",
      " 0.15739512 0.15716969 0.15453976 0.15180964 0.14765185 0.16713838\n",
      " 0.16696306 0.16262993 0.16710081 0.16758923 0.16463369 0.16338134\n",
      " 0.16338134 0.16493425 0.17084534 0.17112085 0.16871634 0.16210394\n",
      " 0.16280526 0.16568566 0.17179712 0.1764809  0.17635567 0.183469\n",
      " 0.18562304 0.18219161 0.18126487 0.17422183 0.17601432 0.17738499\n",
      " 0.17834431 0.17895861 0.17930788 0.17946507 0.17948894 0.17942287\n",
      " 0.17929716 0.17913221 0.17894115 0.1787326 ]\n",
      "13 day output [[0.17851202]]\n",
      "14 day input [0.11015654 0.11937383 0.11243582 0.11974953 0.11291171 0.11028178\n",
      " 0.11063244 0.11774577 0.11611772 0.12145272 0.11739512 0.11448967\n",
      " 0.10429555 0.10537257 0.10659987 0.09986224 0.10289292 0.10161553\n",
      " 0.09635567 0.09785848 0.11068253 0.11769568 0.11211021 0.11529117\n",
      " 0.10958046 0.10434565 0.1092799  0.11458986 0.11559173 0.12275517\n",
      " 0.12062617 0.12663745 0.13134627 0.12771446 0.13046963 0.13377583\n",
      " 0.12884158 0.12726362 0.13507827 0.13906074 0.14542267 0.14860363\n",
      " 0.1472511  0.14256731 0.14482154 0.13823419 0.13515341 0.13340013\n",
      " 0.14707577 0.14619912 0.14624922 0.14935504 0.15226049 0.14980589\n",
      " 0.14572323 0.14649969 0.14259236 0.14256731 0.15421415 0.15739512\n",
      " 0.15716969 0.15453976 0.15180964 0.14765185 0.16713838 0.16696306\n",
      " 0.16262993 0.16710081 0.16758923 0.16463369 0.16338134 0.16338134\n",
      " 0.16493425 0.17084534 0.17112085 0.16871634 0.16210394 0.16280526\n",
      " 0.16568566 0.17179712 0.1764809  0.17635567 0.183469   0.18562304\n",
      " 0.18219161 0.18126487 0.17422183 0.17601432 0.17738499 0.17834431\n",
      " 0.17895861 0.17930788 0.17946507 0.17948894 0.17942287 0.17929716\n",
      " 0.17913221 0.17894115 0.1787326  0.17851202]\n",
      "14 day output [[0.17828308]]\n",
      "15 day input [0.11937383 0.11243582 0.11974953 0.11291171 0.11028178 0.11063244\n",
      " 0.11774577 0.11611772 0.12145272 0.11739512 0.11448967 0.10429555\n",
      " 0.10537257 0.10659987 0.09986224 0.10289292 0.10161553 0.09635567\n",
      " 0.09785848 0.11068253 0.11769568 0.11211021 0.11529117 0.10958046\n",
      " 0.10434565 0.1092799  0.11458986 0.11559173 0.12275517 0.12062617\n",
      " 0.12663745 0.13134627 0.12771446 0.13046963 0.13377583 0.12884158\n",
      " 0.12726362 0.13507827 0.13906074 0.14542267 0.14860363 0.1472511\n",
      " 0.14256731 0.14482154 0.13823419 0.13515341 0.13340013 0.14707577\n",
      " 0.14619912 0.14624922 0.14935504 0.15226049 0.14980589 0.14572323\n",
      " 0.14649969 0.14259236 0.14256731 0.15421415 0.15739512 0.15716969\n",
      " 0.15453976 0.15180964 0.14765185 0.16713838 0.16696306 0.16262993\n",
      " 0.16710081 0.16758923 0.16463369 0.16338134 0.16338134 0.16493425\n",
      " 0.17084534 0.17112085 0.16871634 0.16210394 0.16280526 0.16568566\n",
      " 0.17179712 0.1764809  0.17635567 0.183469   0.18562304 0.18219161\n",
      " 0.18126487 0.17422183 0.17601432 0.17738499 0.17834431 0.17895861\n",
      " 0.17930788 0.17946507 0.17948894 0.17942287 0.17929716 0.17913221\n",
      " 0.17894115 0.1787326  0.17851202 0.17828308]\n",
      "15 day output [[0.1780484]]\n",
      "16 day input [0.11243582 0.11974953 0.11291171 0.11028178 0.11063244 0.11774577\n",
      " 0.11611772 0.12145272 0.11739512 0.11448967 0.10429555 0.10537257\n",
      " 0.10659987 0.09986224 0.10289292 0.10161553 0.09635567 0.09785848\n",
      " 0.11068253 0.11769568 0.11211021 0.11529117 0.10958046 0.10434565\n",
      " 0.1092799  0.11458986 0.11559173 0.12275517 0.12062617 0.12663745\n",
      " 0.13134627 0.12771446 0.13046963 0.13377583 0.12884158 0.12726362\n",
      " 0.13507827 0.13906074 0.14542267 0.14860363 0.1472511  0.14256731\n",
      " 0.14482154 0.13823419 0.13515341 0.13340013 0.14707577 0.14619912\n",
      " 0.14624922 0.14935504 0.15226049 0.14980589 0.14572323 0.14649969\n",
      " 0.14259236 0.14256731 0.15421415 0.15739512 0.15716969 0.15453976\n",
      " 0.15180964 0.14765185 0.16713838 0.16696306 0.16262993 0.16710081\n",
      " 0.16758923 0.16463369 0.16338134 0.16338134 0.16493425 0.17084534\n",
      " 0.17112085 0.16871634 0.16210394 0.16280526 0.16568566 0.17179712\n",
      " 0.1764809  0.17635567 0.183469   0.18562304 0.18219161 0.18126487\n",
      " 0.17422183 0.17601432 0.17738499 0.17834431 0.17895861 0.17930788\n",
      " 0.17946507 0.17948894 0.17942287 0.17929716 0.17913221 0.17894115\n",
      " 0.1787326  0.17851202 0.17828308 0.1780484 ]\n",
      "16 day output [[0.1778099]]\n",
      "17 day input [0.11974953 0.11291171 0.11028178 0.11063244 0.11774577 0.11611772\n",
      " 0.12145272 0.11739512 0.11448967 0.10429555 0.10537257 0.10659987\n",
      " 0.09986224 0.10289292 0.10161553 0.09635567 0.09785848 0.11068253\n",
      " 0.11769568 0.11211021 0.11529117 0.10958046 0.10434565 0.1092799\n",
      " 0.11458986 0.11559173 0.12275517 0.12062617 0.12663745 0.13134627\n",
      " 0.12771446 0.13046963 0.13377583 0.12884158 0.12726362 0.13507827\n",
      " 0.13906074 0.14542267 0.14860363 0.1472511  0.14256731 0.14482154\n",
      " 0.13823419 0.13515341 0.13340013 0.14707577 0.14619912 0.14624922\n",
      " 0.14935504 0.15226049 0.14980589 0.14572323 0.14649969 0.14259236\n",
      " 0.14256731 0.15421415 0.15739512 0.15716969 0.15453976 0.15180964\n",
      " 0.14765185 0.16713838 0.16696306 0.16262993 0.16710081 0.16758923\n",
      " 0.16463369 0.16338134 0.16338134 0.16493425 0.17084534 0.17112085\n",
      " 0.16871634 0.16210394 0.16280526 0.16568566 0.17179712 0.1764809\n",
      " 0.17635567 0.183469   0.18562304 0.18219161 0.18126487 0.17422183\n",
      " 0.17601432 0.17738499 0.17834431 0.17895861 0.17930788 0.17946507\n",
      " 0.17948894 0.17942287 0.17929716 0.17913221 0.17894115 0.1787326\n",
      " 0.17851202 0.17828308 0.1780484  0.17780989]\n",
      "17 day output [[0.17756917]]\n",
      "18 day input [0.11291171 0.11028178 0.11063244 0.11774577 0.11611772 0.12145272\n",
      " 0.11739512 0.11448967 0.10429555 0.10537257 0.10659987 0.09986224\n",
      " 0.10289292 0.10161553 0.09635567 0.09785848 0.11068253 0.11769568\n",
      " 0.11211021 0.11529117 0.10958046 0.10434565 0.1092799  0.11458986\n",
      " 0.11559173 0.12275517 0.12062617 0.12663745 0.13134627 0.12771446\n",
      " 0.13046963 0.13377583 0.12884158 0.12726362 0.13507827 0.13906074\n",
      " 0.14542267 0.14860363 0.1472511  0.14256731 0.14482154 0.13823419\n",
      " 0.13515341 0.13340013 0.14707577 0.14619912 0.14624922 0.14935504\n",
      " 0.15226049 0.14980589 0.14572323 0.14649969 0.14259236 0.14256731\n",
      " 0.15421415 0.15739512 0.15716969 0.15453976 0.15180964 0.14765185\n",
      " 0.16713838 0.16696306 0.16262993 0.16710081 0.16758923 0.16463369\n",
      " 0.16338134 0.16338134 0.16493425 0.17084534 0.17112085 0.16871634\n",
      " 0.16210394 0.16280526 0.16568566 0.17179712 0.1764809  0.17635567\n",
      " 0.183469   0.18562304 0.18219161 0.18126487 0.17422183 0.17601432\n",
      " 0.17738499 0.17834431 0.17895861 0.17930788 0.17946507 0.17948894\n",
      " 0.17942287 0.17929716 0.17913221 0.17894115 0.1787326  0.17851202\n",
      " 0.17828308 0.1780484  0.17780989 0.17756917]\n",
      "18 day output [[0.17732747]]\n",
      "19 day input [0.11028178 0.11063244 0.11774577 0.11611772 0.12145272 0.11739512\n",
      " 0.11448967 0.10429555 0.10537257 0.10659987 0.09986224 0.10289292\n",
      " 0.10161553 0.09635567 0.09785848 0.11068253 0.11769568 0.11211021\n",
      " 0.11529117 0.10958046 0.10434565 0.1092799  0.11458986 0.11559173\n",
      " 0.12275517 0.12062617 0.12663745 0.13134627 0.12771446 0.13046963\n",
      " 0.13377583 0.12884158 0.12726362 0.13507827 0.13906074 0.14542267\n",
      " 0.14860363 0.1472511  0.14256731 0.14482154 0.13823419 0.13515341\n",
      " 0.13340013 0.14707577 0.14619912 0.14624922 0.14935504 0.15226049\n",
      " 0.14980589 0.14572323 0.14649969 0.14259236 0.14256731 0.15421415\n",
      " 0.15739512 0.15716969 0.15453976 0.15180964 0.14765185 0.16713838\n",
      " 0.16696306 0.16262993 0.16710081 0.16758923 0.16463369 0.16338134\n",
      " 0.16338134 0.16493425 0.17084534 0.17112085 0.16871634 0.16210394\n",
      " 0.16280526 0.16568566 0.17179712 0.1764809  0.17635567 0.183469\n",
      " 0.18562304 0.18219161 0.18126487 0.17422183 0.17601432 0.17738499\n",
      " 0.17834431 0.17895861 0.17930788 0.17946507 0.17948894 0.17942287\n",
      " 0.17929716 0.17913221 0.17894115 0.1787326  0.17851202 0.17828308\n",
      " 0.1780484  0.17780989 0.17756917 0.17732747]\n"
     ]
    },
    {
     "name": "stdout",
     "output_type": "stream",
     "text": [
      "19 day output [[0.17708592]]\n",
      "20 day input [0.11063244 0.11774577 0.11611772 0.12145272 0.11739512 0.11448967\n",
      " 0.10429555 0.10537257 0.10659987 0.09986224 0.10289292 0.10161553\n",
      " 0.09635567 0.09785848 0.11068253 0.11769568 0.11211021 0.11529117\n",
      " 0.10958046 0.10434565 0.1092799  0.11458986 0.11559173 0.12275517\n",
      " 0.12062617 0.12663745 0.13134627 0.12771446 0.13046963 0.13377583\n",
      " 0.12884158 0.12726362 0.13507827 0.13906074 0.14542267 0.14860363\n",
      " 0.1472511  0.14256731 0.14482154 0.13823419 0.13515341 0.13340013\n",
      " 0.14707577 0.14619912 0.14624922 0.14935504 0.15226049 0.14980589\n",
      " 0.14572323 0.14649969 0.14259236 0.14256731 0.15421415 0.15739512\n",
      " 0.15716969 0.15453976 0.15180964 0.14765185 0.16713838 0.16696306\n",
      " 0.16262993 0.16710081 0.16758923 0.16463369 0.16338134 0.16338134\n",
      " 0.16493425 0.17084534 0.17112085 0.16871634 0.16210394 0.16280526\n",
      " 0.16568566 0.17179712 0.1764809  0.17635567 0.183469   0.18562304\n",
      " 0.18219161 0.18126487 0.17422183 0.17601432 0.17738499 0.17834431\n",
      " 0.17895861 0.17930788 0.17946507 0.17948894 0.17942287 0.17929716\n",
      " 0.17913221 0.17894115 0.1787326  0.17851202 0.17828308 0.1780484\n",
      " 0.17780989 0.17756917 0.17732747 0.17708592]\n",
      "20 day output [[0.17684528]]\n",
      "21 day input [0.11774577 0.11611772 0.12145272 0.11739512 0.11448967 0.10429555\n",
      " 0.10537257 0.10659987 0.09986224 0.10289292 0.10161553 0.09635567\n",
      " 0.09785848 0.11068253 0.11769568 0.11211021 0.11529117 0.10958046\n",
      " 0.10434565 0.1092799  0.11458986 0.11559173 0.12275517 0.12062617\n",
      " 0.12663745 0.13134627 0.12771446 0.13046963 0.13377583 0.12884158\n",
      " 0.12726362 0.13507827 0.13906074 0.14542267 0.14860363 0.1472511\n",
      " 0.14256731 0.14482154 0.13823419 0.13515341 0.13340013 0.14707577\n",
      " 0.14619912 0.14624922 0.14935504 0.15226049 0.14980589 0.14572323\n",
      " 0.14649969 0.14259236 0.14256731 0.15421415 0.15739512 0.15716969\n",
      " 0.15453976 0.15180964 0.14765185 0.16713838 0.16696306 0.16262993\n",
      " 0.16710081 0.16758923 0.16463369 0.16338134 0.16338134 0.16493425\n",
      " 0.17084534 0.17112085 0.16871634 0.16210394 0.16280526 0.16568566\n",
      " 0.17179712 0.1764809  0.17635567 0.183469   0.18562304 0.18219161\n",
      " 0.18126487 0.17422183 0.17601432 0.17738499 0.17834431 0.17895861\n",
      " 0.17930788 0.17946507 0.17948894 0.17942287 0.17929716 0.17913221\n",
      " 0.17894115 0.1787326  0.17851202 0.17828308 0.1780484  0.17780989\n",
      " 0.17756917 0.17732747 0.17708592 0.17684528]\n",
      "21 day output [[0.17660625]]\n",
      "22 day input [0.11611772 0.12145272 0.11739512 0.11448967 0.10429555 0.10537257\n",
      " 0.10659987 0.09986224 0.10289292 0.10161553 0.09635567 0.09785848\n",
      " 0.11068253 0.11769568 0.11211021 0.11529117 0.10958046 0.10434565\n",
      " 0.1092799  0.11458986 0.11559173 0.12275517 0.12062617 0.12663745\n",
      " 0.13134627 0.12771446 0.13046963 0.13377583 0.12884158 0.12726362\n",
      " 0.13507827 0.13906074 0.14542267 0.14860363 0.1472511  0.14256731\n",
      " 0.14482154 0.13823419 0.13515341 0.13340013 0.14707577 0.14619912\n",
      " 0.14624922 0.14935504 0.15226049 0.14980589 0.14572323 0.14649969\n",
      " 0.14259236 0.14256731 0.15421415 0.15739512 0.15716969 0.15453976\n",
      " 0.15180964 0.14765185 0.16713838 0.16696306 0.16262993 0.16710081\n",
      " 0.16758923 0.16463369 0.16338134 0.16338134 0.16493425 0.17084534\n",
      " 0.17112085 0.16871634 0.16210394 0.16280526 0.16568566 0.17179712\n",
      " 0.1764809  0.17635567 0.183469   0.18562304 0.18219161 0.18126487\n",
      " 0.17422183 0.17601432 0.17738499 0.17834431 0.17895861 0.17930788\n",
      " 0.17946507 0.17948894 0.17942287 0.17929716 0.17913221 0.17894115\n",
      " 0.1787326  0.17851202 0.17828308 0.1780484  0.17780989 0.17756917\n",
      " 0.17732747 0.17708592 0.17684528 0.17660625]\n",
      "22 day output [[0.17636928]]\n",
      "23 day input [0.12145272 0.11739512 0.11448967 0.10429555 0.10537257 0.10659987\n",
      " 0.09986224 0.10289292 0.10161553 0.09635567 0.09785848 0.11068253\n",
      " 0.11769568 0.11211021 0.11529117 0.10958046 0.10434565 0.1092799\n",
      " 0.11458986 0.11559173 0.12275517 0.12062617 0.12663745 0.13134627\n",
      " 0.12771446 0.13046963 0.13377583 0.12884158 0.12726362 0.13507827\n",
      " 0.13906074 0.14542267 0.14860363 0.1472511  0.14256731 0.14482154\n",
      " 0.13823419 0.13515341 0.13340013 0.14707577 0.14619912 0.14624922\n",
      " 0.14935504 0.15226049 0.14980589 0.14572323 0.14649969 0.14259236\n",
      " 0.14256731 0.15421415 0.15739512 0.15716969 0.15453976 0.15180964\n",
      " 0.14765185 0.16713838 0.16696306 0.16262993 0.16710081 0.16758923\n",
      " 0.16463369 0.16338134 0.16338134 0.16493425 0.17084534 0.17112085\n",
      " 0.16871634 0.16210394 0.16280526 0.16568566 0.17179712 0.1764809\n",
      " 0.17635567 0.183469   0.18562304 0.18219161 0.18126487 0.17422183\n",
      " 0.17601432 0.17738499 0.17834431 0.17895861 0.17930788 0.17946507\n",
      " 0.17948894 0.17942287 0.17929716 0.17913221 0.17894115 0.1787326\n",
      " 0.17851202 0.17828308 0.1780484  0.17780989 0.17756917 0.17732747\n",
      " 0.17708592 0.17684528 0.17660625 0.17636928]\n",
      "23 day output [[0.17613466]]\n",
      "24 day input [0.11739512 0.11448967 0.10429555 0.10537257 0.10659987 0.09986224\n",
      " 0.10289292 0.10161553 0.09635567 0.09785848 0.11068253 0.11769568\n",
      " 0.11211021 0.11529117 0.10958046 0.10434565 0.1092799  0.11458986\n",
      " 0.11559173 0.12275517 0.12062617 0.12663745 0.13134627 0.12771446\n",
      " 0.13046963 0.13377583 0.12884158 0.12726362 0.13507827 0.13906074\n",
      " 0.14542267 0.14860363 0.1472511  0.14256731 0.14482154 0.13823419\n",
      " 0.13515341 0.13340013 0.14707577 0.14619912 0.14624922 0.14935504\n",
      " 0.15226049 0.14980589 0.14572323 0.14649969 0.14259236 0.14256731\n",
      " 0.15421415 0.15739512 0.15716969 0.15453976 0.15180964 0.14765185\n",
      " 0.16713838 0.16696306 0.16262993 0.16710081 0.16758923 0.16463369\n",
      " 0.16338134 0.16338134 0.16493425 0.17084534 0.17112085 0.16871634\n",
      " 0.16210394 0.16280526 0.16568566 0.17179712 0.1764809  0.17635567\n",
      " 0.183469   0.18562304 0.18219161 0.18126487 0.17422183 0.17601432\n",
      " 0.17738499 0.17834431 0.17895861 0.17930788 0.17946507 0.17948894\n",
      " 0.17942287 0.17929716 0.17913221 0.17894115 0.1787326  0.17851202\n",
      " 0.17828308 0.1780484  0.17780989 0.17756917 0.17732747 0.17708592\n",
      " 0.17684528 0.17660625 0.17636928 0.17613466]\n",
      "24 day output [[0.17590258]]\n",
      "25 day input [0.11448967 0.10429555 0.10537257 0.10659987 0.09986224 0.10289292\n",
      " 0.10161553 0.09635567 0.09785848 0.11068253 0.11769568 0.11211021\n",
      " 0.11529117 0.10958046 0.10434565 0.1092799  0.11458986 0.11559173\n",
      " 0.12275517 0.12062617 0.12663745 0.13134627 0.12771446 0.13046963\n",
      " 0.13377583 0.12884158 0.12726362 0.13507827 0.13906074 0.14542267\n",
      " 0.14860363 0.1472511  0.14256731 0.14482154 0.13823419 0.13515341\n",
      " 0.13340013 0.14707577 0.14619912 0.14624922 0.14935504 0.15226049\n",
      " 0.14980589 0.14572323 0.14649969 0.14259236 0.14256731 0.15421415\n",
      " 0.15739512 0.15716969 0.15453976 0.15180964 0.14765185 0.16713838\n",
      " 0.16696306 0.16262993 0.16710081 0.16758923 0.16463369 0.16338134\n",
      " 0.16338134 0.16493425 0.17084534 0.17112085 0.16871634 0.16210394\n",
      " 0.16280526 0.16568566 0.17179712 0.1764809  0.17635567 0.183469\n",
      " 0.18562304 0.18219161 0.18126487 0.17422183 0.17601432 0.17738499\n",
      " 0.17834431 0.17895861 0.17930788 0.17946507 0.17948894 0.17942287\n",
      " 0.17929716 0.17913221 0.17894115 0.1787326  0.17851202 0.17828308\n",
      " 0.1780484  0.17780989 0.17756917 0.17732747 0.17708592 0.17684528\n",
      " 0.17660625 0.17636928 0.17613466 0.17590258]\n",
      "25 day output [[0.17567298]]\n",
      "26 day input [0.10429555 0.10537257 0.10659987 0.09986224 0.10289292 0.10161553\n",
      " 0.09635567 0.09785848 0.11068253 0.11769568 0.11211021 0.11529117\n",
      " 0.10958046 0.10434565 0.1092799  0.11458986 0.11559173 0.12275517\n",
      " 0.12062617 0.12663745 0.13134627 0.12771446 0.13046963 0.13377583\n",
      " 0.12884158 0.12726362 0.13507827 0.13906074 0.14542267 0.14860363\n",
      " 0.1472511  0.14256731 0.14482154 0.13823419 0.13515341 0.13340013\n",
      " 0.14707577 0.14619912 0.14624922 0.14935504 0.15226049 0.14980589\n",
      " 0.14572323 0.14649969 0.14259236 0.14256731 0.15421415 0.15739512\n",
      " 0.15716969 0.15453976 0.15180964 0.14765185 0.16713838 0.16696306\n",
      " 0.16262993 0.16710081 0.16758923 0.16463369 0.16338134 0.16338134\n",
      " 0.16493425 0.17084534 0.17112085 0.16871634 0.16210394 0.16280526\n",
      " 0.16568566 0.17179712 0.1764809  0.17635567 0.183469   0.18562304\n",
      " 0.18219161 0.18126487 0.17422183 0.17601432 0.17738499 0.17834431\n",
      " 0.17895861 0.17930788 0.17946507 0.17948894 0.17942287 0.17929716\n",
      " 0.17913221 0.17894115 0.1787326  0.17851202 0.17828308 0.1780484\n",
      " 0.17780989 0.17756917 0.17732747 0.17708592 0.17684528 0.17660625\n",
      " 0.17636928 0.17613466 0.17590258 0.17567298]\n",
      "26 day output [[0.17544584]]\n",
      "27 day input [0.10537257 0.10659987 0.09986224 0.10289292 0.10161553 0.09635567\n",
      " 0.09785848 0.11068253 0.11769568 0.11211021 0.11529117 0.10958046\n",
      " 0.10434565 0.1092799  0.11458986 0.11559173 0.12275517 0.12062617\n",
      " 0.12663745 0.13134627 0.12771446 0.13046963 0.13377583 0.12884158\n",
      " 0.12726362 0.13507827 0.13906074 0.14542267 0.14860363 0.1472511\n",
      " 0.14256731 0.14482154 0.13823419 0.13515341 0.13340013 0.14707577\n",
      " 0.14619912 0.14624922 0.14935504 0.15226049 0.14980589 0.14572323\n",
      " 0.14649969 0.14259236 0.14256731 0.15421415 0.15739512 0.15716969\n",
      " 0.15453976 0.15180964 0.14765185 0.16713838 0.16696306 0.16262993\n",
      " 0.16710081 0.16758923 0.16463369 0.16338134 0.16338134 0.16493425\n",
      " 0.17084534 0.17112085 0.16871634 0.16210394 0.16280526 0.16568566\n",
      " 0.17179712 0.1764809  0.17635567 0.183469   0.18562304 0.18219161\n",
      " 0.18126487 0.17422183 0.17601432 0.17738499 0.17834431 0.17895861\n",
      " 0.17930788 0.17946507 0.17948894 0.17942287 0.17929716 0.17913221\n",
      " 0.17894115 0.1787326  0.17851202 0.17828308 0.1780484  0.17780989\n",
      " 0.17756917 0.17732747 0.17708592 0.17684528 0.17660625 0.17636928\n",
      " 0.17613466 0.17590258 0.17567298 0.17544584]\n",
      "27 day output [[0.17522095]]\n",
      "28 day input [0.10659987 0.09986224 0.10289292 0.10161553 0.09635567 0.09785848\n",
      " 0.11068253 0.11769568 0.11211021 0.11529117 0.10958046 0.10434565\n",
      " 0.1092799  0.11458986 0.11559173 0.12275517 0.12062617 0.12663745\n",
      " 0.13134627 0.12771446 0.13046963 0.13377583 0.12884158 0.12726362\n",
      " 0.13507827 0.13906074 0.14542267 0.14860363 0.1472511  0.14256731\n",
      " 0.14482154 0.13823419 0.13515341 0.13340013 0.14707577 0.14619912\n",
      " 0.14624922 0.14935504 0.15226049 0.14980589 0.14572323 0.14649969\n",
      " 0.14259236 0.14256731 0.15421415 0.15739512 0.15716969 0.15453976\n",
      " 0.15180964 0.14765185 0.16713838 0.16696306 0.16262993 0.16710081\n",
      " 0.16758923 0.16463369 0.16338134 0.16338134 0.16493425 0.17084534\n",
      " 0.17112085 0.16871634 0.16210394 0.16280526 0.16568566 0.17179712\n",
      " 0.1764809  0.17635567 0.183469   0.18562304 0.18219161 0.18126487\n",
      " 0.17422183 0.17601432 0.17738499 0.17834431 0.17895861 0.17930788\n",
      " 0.17946507 0.17948894 0.17942287 0.17929716 0.17913221 0.17894115\n",
      " 0.1787326  0.17851202 0.17828308 0.1780484  0.17780989 0.17756917\n",
      " 0.17732747 0.17708592 0.17684528 0.17660625 0.17636928 0.17613466\n",
      " 0.17590258 0.17567298 0.17544584 0.17522095]\n",
      "28 day output [[0.17499802]]\n",
      "29 day input [0.09986224 0.10289292 0.10161553 0.09635567 0.09785848 0.11068253\n",
      " 0.11769568 0.11211021 0.11529117 0.10958046 0.10434565 0.1092799\n",
      " 0.11458986 0.11559173 0.12275517 0.12062617 0.12663745 0.13134627\n",
      " 0.12771446 0.13046963 0.13377583 0.12884158 0.12726362 0.13507827\n",
      " 0.13906074 0.14542267 0.14860363 0.1472511  0.14256731 0.14482154\n",
      " 0.13823419 0.13515341 0.13340013 0.14707577 0.14619912 0.14624922\n",
      " 0.14935504 0.15226049 0.14980589 0.14572323 0.14649969 0.14259236\n",
      " 0.14256731 0.15421415 0.15739512 0.15716969 0.15453976 0.15180964\n",
      " 0.14765185 0.16713838 0.16696306 0.16262993 0.16710081 0.16758923\n",
      " 0.16463369 0.16338134 0.16338134 0.16493425 0.17084534 0.17112085\n",
      " 0.16871634 0.16210394 0.16280526 0.16568566 0.17179712 0.1764809\n",
      " 0.17635567 0.183469   0.18562304 0.18219161 0.18126487 0.17422183\n",
      " 0.17601432 0.17738499 0.17834431 0.17895861 0.17930788 0.17946507\n",
      " 0.17948894 0.17942287 0.17929716 0.17913221 0.17894115 0.1787326\n",
      " 0.17851202 0.17828308 0.1780484  0.17780989 0.17756917 0.17732747\n",
      " 0.17708592 0.17684528 0.17660625 0.17636928 0.17613466 0.17590258\n",
      " 0.17567298 0.17544584 0.17522095 0.17499802]\n"
     ]
    },
    {
     "name": "stdout",
     "output_type": "stream",
     "text": [
      "29 day output [[0.17477675]]\n",
      "[[0.17422182857990265], [0.17601431906223297], [0.17738498747348785], [0.17834430932998657], [0.17895860970020294], [0.17930787801742554], [0.17946507036685944], [0.17948894202709198], [0.17942287027835846], [0.17929716408252716], [0.17913220822811127], [0.17894114553928375], [0.17873260378837585], [0.17851202189922333], [0.17828308045864105], [0.17804840207099915], [0.17780989408493042], [0.1775691658258438], [0.1773274689912796], [0.17708592116832733], [0.17684528231620789], [0.17660625278949738], [0.17636927962303162], [0.17613466084003448], [0.1759025752544403], [0.1756729781627655], [0.17544583976268768], [0.17522095143795013], [0.17499801516532898], [0.17477674782276154]]\n"
     ]
    }
   ],
   "source": [
    "from numpy import array\n",
    "\n",
    "lst_output=[]\n",
    "n_steps=100\n",
    "i=0\n",
    "while(i<30):\n",
    "    \n",
    "    if(len(temp_input)>100):\n",
    "        #print(temp_input)\n",
    "        x_input=np.array(temp_input[1:])\n",
    "        print(\"{} day input {}\".format(i,x_input))\n",
    "        x_input=x_input.reshape(1,-1)\n",
    "        x_input = x_input.reshape((1, n_steps, 1))\n",
    "        #print(x_input)\n",
    "        yhat = model.predict(x_input, verbose=0)\n",
    "        print(\"{} day output {}\".format(i,yhat))\n",
    "        temp_input.extend(yhat[0].tolist())\n",
    "        temp_input=temp_input[1:]\n",
    "        #print(temp_input)\n",
    "        lst_output.extend(yhat.tolist())\n",
    "        i=i+1\n",
    "    else:\n",
    "        x_input = x_input.reshape((1, n_steps,1))\n",
    "        yhat = model.predict(x_input, verbose=0)\n",
    "        print(yhat[0])\n",
    "        temp_input.extend(yhat[0].tolist())\n",
    "        print(len(temp_input))\n",
    "        lst_output.extend(yhat.tolist())\n",
    "        i=i+1\n",
    "    \n",
    "\n",
    "print(lst_output)"
   ]
  },
  {
   "cell_type": "code",
   "execution_count": 40,
   "id": "87269d24",
   "metadata": {},
   "outputs": [],
   "source": [
    "day_new=np.arange(1,101)\n",
    "day_pred=np.arange(101,131)"
   ]
  },
  {
   "cell_type": "code",
   "execution_count": 41,
   "id": "87813ee8",
   "metadata": {},
   "outputs": [],
   "source": [
    "import matplotlib.pyplot as plt"
   ]
  },
  {
   "cell_type": "code",
   "execution_count": 42,
   "id": "4214e0e5",
   "metadata": {},
   "outputs": [
    {
     "data": {
      "text/plain": [
       "1256"
      ]
     },
     "execution_count": 42,
     "metadata": {},
     "output_type": "execute_result"
    }
   ],
   "source": [
    "len(df1)"
   ]
  },
  {
   "cell_type": "code",
   "execution_count": 43,
   "id": "98079ba7",
   "metadata": {},
   "outputs": [
    {
     "data": {
      "text/plain": [
       "[<matplotlib.lines.Line2D at 0x14e63d7cd48>]"
      ]
     },
     "execution_count": 43,
     "metadata": {},
     "output_type": "execute_result"
    },
    {
     "data": {
      "image/png": "[encoded data removed]",
      "text/plain": [
       "<Figure size 432x288 with 1 Axes>"
      ]
     },
     "metadata": {
      "needs_background": "light"
     },
     "output_type": "display_data"
    }
   ],
   "source": [
    "plt.plot(day_new,scaler.inverse_transform(df1[1156:]))\n",
    "plt.plot(day_pred,scaler.inverse_transform(lst_output))"
   ]
  },
  {
   "cell_type": "code",
   "execution_count": 47,
   "id": "c3878431",
   "metadata": {},
   "outputs": [
    {
     "data": {
      "text/plain": [
       "[<matplotlib.lines.Line2D at 0x14e69761cc8>]"
      ]
     },
     "execution_count": 47,
     "metadata": {},
     "output_type": "execute_result"
    },
    {
     "data": {
      "image/png": "[encoded data removed]",
      "text/plain": [
       "<Figure size 432x288 with 1 Axes>"
      ]
     },
     "metadata": {
      "needs_background": "light"
     },
     "output_type": "display_data"
    }
   ],
   "source": [
    "df3=df1.tolist()\n",
    "df3.extend(lst_output)\n",
    "plt.plot(df3[1200:])"
   ]
  },
  {
   "cell_type": "code",
   "execution_count": 45,
   "id": "0aafdd66",
   "metadata": {},
   "outputs": [
    {
     "data": {
      "text/plain": [
       "[<matplotlib.lines.Line2D at 0x14e5a2f6e08>]"
      ]
     },
     "execution_count": 45,
     "metadata": {},
     "output_type": "execute_result"
    },
    {
     "data": {
      "image/png": "[encoded data removed]",
      "text/plain": [
       "<Figure size 432x288 with 1 Axes>"
      ]
     },
     "metadata": {
      "needs_background": "light"
     },
     "output_type": "display_data"
    }
   ],
   "source": [
    "df3=scaler.inverse_transform(df3).tolist()\n",
    "plt.plot(df3)"
   ]
  },
  {
   "cell_type": "code",
   "execution_count": null,
   "id": "63cfc833",
   "metadata": {},
   "outputs": [],
   "source": []
  }
 ],
 "metadata": {
  "kernelspec": {
   "display_name": "Python 3",
   "language": "python",
   "name": "python3"
  },
  "language_info": {
   "codemirror_mode": {
    "name": "ipython",
    "version": 3
   },
   "file_extension": ".py",
   "mimetype": "text/x-python",
   "name": "python",
   "nbconvert_exporter": "python",
   "pygments_lexer": "ipython3",
   "version": "3.7.6"
  }
 },
 "nbformat": 4,
 "nbformat_minor": 5
}
